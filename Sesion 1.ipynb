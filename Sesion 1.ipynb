{
 "cells": [
  {
   "cell_type": "markdown",
   "id": "9aeeec65-dd75-4a33-88ee-47fa69b853b8",
   "metadata": {},
   "source": [
    "# Curso: Introducción Práctica al Machine Learning con Python para iniciados\n",
    "\n",
    "## Objetivo del Curso\n",
    "El objetivo de este curso es proporcionar a los participantes una introducción práctica al Machine Learning utilizando el lenguaje de programación Python. \n",
    "\n",
    "A lo largo de ocho sesiones de 2.5 horas cada una, los participantes cumpliran los siguientes objetivos:\n",
    "- Aprender los conceptos fundamentales del Machine Learning.\n",
    "- Implementar y aplicar una variedad de algoritmos de aprendizaje supervisado y no supervisado utilizando bibliotecas populares como scikit-learn.\n",
    "\n",
    "Al finalizar el curso, los estudiantes estarán equipados con el conocimiento y las habilidades necesarias para comenzar a explorar y trabajar en proyectos de Machine Learning en diversos campos, incluyendo medicina, biología y ciencias de datos.\n",
    "\n",
    "## Sesiones\n",
    "\n",
    "### Sesión 1: Introducción a Python y Conceptos Básicos de Machine Learning\n",
    "- Introducción al curso y objetivos.\n",
    "- Instalación y configuración de entorno de desarrollo (Python, Jupyter Notebook, bibliotecas de ML).\n",
    "- Fundamentos de Python: Variables, tipos de datos, operadores y estructuras de control.\n",
    "- Introducción al concepto de Machine Learning.\n",
    "- Tipos de aprendizaje: Supervisado, no supervisado y por refuerzo.\n",
    "- Ejemplo: Clasificación de flores Iris usando scikit-learn.\n",
    "\n",
    "### Sesión 2: Manipulación de Datos con Pandas y Preprocesamiento de Datos\n",
    "- Introducción a la biblioteca Pandas para manipulación de datos.\n",
    "- Carga y visualización de conjuntos de datos con Pandas.\n",
    "- Limpieza de datos: Manejo de datos faltantes, duplicados y outliers.\n",
    "- Transformaciones de datos: Normalización, codificación de variables categóricas.\n",
    "- División de datos en conjuntos de entrenamiento y prueba.\n",
    "- Ejemplo: Preprocesamiento de datos para un conjunto de datos de reconocimiento de dígitos escritos a mano.\n",
    "\n",
    "### Sesión 3: Aprendizaje Supervisado - Regresión\n",
    "- Conceptos básicos de regresión.\n",
    "- Regresión lineal y regresión polinómica.\n",
    "- Evaluación del rendimiento del modelo: Métricas de regresión (R-cuadrado, error cuadrático medio).\n",
    "- Regularización para evitar el sobreajuste: Ridge y Lasso.\n",
    "- Ejemplo: Predicción de los precios de las casas utilizando regresión lineal.\n",
    "- Ejemplo adicional: Regresión polinómica para predecir el rendimiento de estudiantes.\n",
    "\n",
    "### Sesión 4: Aprendizaje Supervisado - Clasificación\n",
    "- Conceptos básicos de clasificación.\n",
    "- Algoritmos de clasificación: K vecinos más cercanos (KNN), Naive Bayes, Árboles de decisión.\n",
    "- Evaluación del rendimiento del modelo: Matriz de confusión, precisión, sensibilidad, especificidad.\n",
    "- Selección de características y validación cruzada.\n",
    "- Ejemplo: Clasificación de pacientes con diabetes usando un clasificador de Bayes ingenuo.\n",
    "- Ejemplo adicional: Clasificación de spam de correo electrónico utilizando un clasificador KNN.\n",
    "\n",
    "### Sesión 5: Aprendizaje Supervisado - Máquinas de Vectores de Soporte (SVM)\n",
    "- Introducción a las Máquinas de Vectores de Soporte (SVM).\n",
    "- Margen máximo y truco del kernel.\n",
    "- Tuning de hiperparámetros en SVM.\n",
    "- Ejemplo: Clasificación de flores Iris usando SVM.\n",
    "- Ejemplo adicional: Detección de fraudes financieros utilizando SVM.\n",
    "\n",
    "### Sesión 6: Aprendizaje No Supervisado - Agrupamiento (Clustering)\n",
    "- Introducción al aprendizaje no supervisado y al agrupamiento.\n",
    "- Algoritmos de agrupamiento: K-Means, Clustering jerárquico.\n",
    "- Evaluación de la calidad de los clusters.\n",
    "- Ejemplo: Agrupamiento de datos de clientes para segmentación de mercado.\n",
    "- Ejemplo adicional: Agrupamiento de documentos para análisis de texto.\n",
    "\n",
    "### Sesión 7: Aprendizaje No Supervisado - Reducción de la dimensionalidad\n",
    "- Necesidad de reducción de la dimensionalidad.\n",
    "- Técnicas de reducción de la dimensionalidad: Análisis de Componentes Principales (PCA).\n",
    "- Aplicaciones de la reducción de la dimensionalidad.\n",
    "- Ejemplo adicional: Reducción de la dimensionalidad para mejorar la eficiencia del modelo.\n",
    "\n",
    "### Sesión 8: Proyecto Final y Aplicaciones Prácticas\n",
    "- Presentación de proyectos finales por parte de los estudiantes.\n",
    "- Discusión sobre aplicaciones prácticas del Machine Learning en medicina, biología, investigación, etc.\n",
    "- Consejos para seguir aprendiendo y recursos adicionales.\n",
    "- Cierre del curso y entrega de certificados.\n"
   ]
  },
  {
   "cell_type": "markdown",
   "id": "e5ff4a7f-1121-4ac3-95c8-5d34b407f053",
   "metadata": {},
   "source": [
    "---\n",
    "---\n",
    "---\n",
    "---"
   ]
  },
  {
   "cell_type": "markdown",
   "id": "3db4a871-77b0-49f1-a8bf-4bcad9269fad",
   "metadata": {
    "jp-MarkdownHeadingCollapsed": true
   },
   "source": [
    "### Unidad 1: Introducción a Python y Conceptos Básicos de Machine Learning\n",
    "\n",
    "#### Objetivos de la Unidad:\n",
    "- Presentar el curso y sus objetivos.\n",
    "- Facilitar la instalación y configuración del entorno de desarrollo para Python, Jupyter Notebook y las bibliotecas de Machine Learning.\n",
    "- Introducir los fundamentos de Python, incluyendo variables, tipos de datos, operadores y estructuras de control.\n",
    "- Explorar el concepto básico de Machine Learning y sus diferentes tipos de aprendizaje: Supervisado, no supervisado y por refuerzo.\n",
    "- Demostrar un ejemplo práctico: Clasificación de flores Iris utilizando la biblioteca scikit-learn.\n"
   ]
  },
  {
   "cell_type": "markdown",
   "id": "f3b1e105-c775-481a-91d1-98fd8224d597",
   "metadata": {},
   "source": [
    "### 1.1 Instalación de Anaconda y Jupyter \n",
    "![Texto alternativo](https://elpythonista.com/wp-content/uploads/2020/10/Anaconda-entrada-hd.jpg)\n",
    "\n",
    "- [Instalación de Anaconda en Windows](https://docs.anaconda.com/free/anaconda/install/windows/)\n",
    "- [Instalación de Anaconda en Linux](https://docs.anaconda.com/free/anaconda/install/linux/)\n",
    "- [Instalación de Anaconda en MAC](https://docs.anaconda.com/free/anaconda/install/mac-os/)\n"
   ]
  },
  {
   "cell_type": "code",
   "execution_count": null,
   "id": "7612f872-b0cc-4bec-a0bd-f9c9abffe824",
   "metadata": {},
   "outputs": [],
   "source": []
  },
  {
   "cell_type": "code",
   "execution_count": null,
   "id": "d24021c5-dead-4477-9fcc-aa327ac3c95d",
   "metadata": {},
   "outputs": [],
   "source": []
  }
 ],
 "metadata": {
  "kernelspec": {
   "display_name": "Python 3 (ipykernel)",
   "language": "python",
   "name": "python3"
  },
  "language_info": {
   "codemirror_mode": {
    "name": "ipython",
    "version": 3
   },
   "file_extension": ".py",
   "mimetype": "text/x-python",
   "name": "python",
   "nbconvert_exporter": "python",
   "pygments_lexer": "ipython3",
   "version": "3.9.12"
  }
 },
 "nbformat": 4,
 "nbformat_minor": 5
}
